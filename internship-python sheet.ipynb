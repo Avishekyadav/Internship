{
 "cells": [
  {
   "cell_type": "code",
   "execution_count": 1,
   "id": "7080c657",
   "metadata": {},
   "outputs": [
    {
     "name": "stdout",
     "output_type": "stream",
     "text": [
      "enter the number5\n",
      "factorial = 5\n",
      "factorial = 20\n",
      "factorial = 60\n",
      "factorial = 120\n",
      "factorial = 120\n"
     ]
    }
   ],
   "source": [
    "#finding a factorial number \n",
    "\n",
    "i = int(input('enter the number'))\n",
    "fac = 1\n",
    "while(i>0):\n",
    "    fac=fac*i\n",
    "    i=i-1\n",
    "    print('factorial =',fac)"
   ]
  },
  {
   "cell_type": "code",
   "execution_count": 3,
   "id": "4d07e3c9",
   "metadata": {},
   "outputs": [
    {
     "name": "stdout",
     "output_type": "stream",
     "text": [
      "enter the number-1\n",
      "error nit defined\n"
     ]
    }
   ],
   "source": [
    "#if user enters a negative number then below mentioned progaram is for them \n",
    "\n",
    "i = int(input('enter the number'))\n",
    "fac = 1\n",
    "\n",
    "if(i<0):\n",
    "    print(\"error nit defined\")\n",
    "elif(i==0):\n",
    "    print(1)\n",
    "else:\n",
    "    while(i>0):\n",
    "        fac=fac*i\n",
    "        i=i-1\n",
    "        print(\"factorial =\", fac)"
   ]
  },
  {
   "cell_type": "code",
   "execution_count": 5,
   "id": "0e082cff",
   "metadata": {},
   "outputs": [
    {
     "name": "stdout",
     "output_type": "stream",
     "text": [
      "enter the number7\n",
      "it is a prime number\n"
     ]
    }
   ],
   "source": [
    "num = int(input('enter the number'))\n",
    "count = 0\n",
    "i = 1\n",
    "while i<=num:\n",
    "        if num%i==0:\n",
    "            count=count+1\n",
    "        i=i+1\n",
    "        \n",
    "if count==2:\n",
    "    print(\"it is a prime number\")\n",
    "elif count>2:\n",
    "    print(\"it is a composite number\")\n"
   ]
  },
  {
   "cell_type": "code",
   "execution_count": 6,
   "id": "6f1829b3",
   "metadata": {},
   "outputs": [
    {
     "name": "stdout",
     "output_type": "stream",
     "text": [
      "enter the stringavishek\n",
      "not a palindrome string\n"
     ]
    }
   ],
   "source": [
    "a=input(\"enter the string\")\n",
    "b=a[-1::-1]\n",
    "if(a==b):\n",
    "    print(\"palindrome string\")\n",
    "else:\n",
    "    print(\"not a palindrome string\")"
   ]
  },
  {
   "cell_type": "code",
   "execution_count": null,
   "id": "142d67d0",
   "metadata": {},
   "outputs": [],
   "source": [
    "#printing to get the third side of right-angled triangle from two given sides\n",
    "\n",
    "a = float(input(\"Enter base: \"))\n",
    "b = float(input(\"Enter height: \"))\n",
    "x = float(input(\"Enter angle: \"))\n",
    "\n",
    "c = math.sqrt(a ** 2 + b ** 2)\n",
    "\n",
    "print(\"Hypotenuse =\", c)"
   ]
  },
  {
   "cell_type": "code",
   "execution_count": null,
   "id": "00da091b",
   "metadata": {},
   "outputs": [],
   "source": [
    "# python program to print the frequency of each of the characters present in a given string\n",
    "\n",
    "var = input(\"enter the string\")\n",
    "ch = input(\"enter the search charecter\")\n",
    "\n",
    "f = 0\n",
    "\n",
    "for i in var:\n",
    "    if i==ch:\n",
    "        f= f+1\n",
    "        \n",
    "        \n",
    "    \n",
    "    \n",
    "    \n",
    "print(\"number of time found =\" f)    "
   ]
  },
  {
   "cell_type": "code",
   "execution_count": null,
   "id": "b04f58a6",
   "metadata": {},
   "outputs": [],
   "source": []
  }
 ],
 "metadata": {
  "kernelspec": {
   "display_name": "Python 3 (ipykernel)",
   "language": "python",
   "name": "python3"
  },
  "language_info": {
   "codemirror_mode": {
    "name": "ipython",
    "version": 3
   },
   "file_extension": ".py",
   "mimetype": "text/x-python",
   "name": "python",
   "nbconvert_exporter": "python",
   "pygments_lexer": "ipython3",
   "version": "3.9.7"
  }
 },
 "nbformat": 4,
 "nbformat_minor": 5
}
